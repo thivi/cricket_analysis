{
  "nbformat": 4,
  "nbformat_minor": 0,
  "metadata": {
    "colab": {
      "provenance": []
    },
    "kernelspec": {
      "name": "python3",
      "display_name": "Python 3"
    },
    "language_info": {
      "name": "python"
    }
  },
  "cells": [
    {
      "cell_type": "code",
      "execution_count": 2,
      "metadata": {
        "colab": {
          "base_uri": "https://localhost:8080/"
        },
        "id": "8BZTfFHkn6Qn",
        "outputId": "fbe77a60-2b1f-479d-faa8-dbc2ae2e43fa"
      },
      "outputs": [
        {
          "output_type": "stream",
          "name": "stdout",
          "text": [
            "Requirement already satisfied: requests in /usr/local/lib/python3.10/dist-packages (2.31.0)\n",
            "Requirement already satisfied: charset-normalizer<4,>=2 in /usr/local/lib/python3.10/dist-packages (from requests) (3.3.2)\n",
            "Requirement already satisfied: idna<4,>=2.5 in /usr/local/lib/python3.10/dist-packages (from requests) (3.6)\n",
            "Requirement already satisfied: urllib3<3,>=1.21.1 in /usr/local/lib/python3.10/dist-packages (from requests) (2.0.7)\n",
            "Requirement already satisfied: certifi>=2017.4.17 in /usr/local/lib/python3.10/dist-packages (from requests) (2024.2.2)\n"
          ]
        }
      ],
      "source": [
        "!pip install requests\n",
        "import requests\n",
        "from bs4 import BeautifulSoup"
      ]
    },
    {
      "cell_type": "code",
      "source": [
        "def getAvg(id, minPos, maxPos, minYear, maxYear, venue):\n",
        "  if venue == 0:\n",
        "    url = f\"https://stats.espncricinfo.com/ci/engine/player/{id}.html?batting_positionmax1={maxPos};batting_positionmin1={minPos};batting_positionval1=batting_position;class=1;filter=advanced;groupby=overall;orderby=runs;spanval1=span;template=results;type=batting;spanmax1=31+Dec+{maxYear};spanmin1=1+Jan+{minYear};\"\n",
        "  elif venue == 1:\n",
        "    url = f\"https://stats.espncricinfo.com/ci/engine/player/{id}.html?batting_positionmax1={maxPos};batting_positionmin1={minPos};batting_positionval1=batting_position;class=1;filter=advanced;groupby=overall;orderby=runs;spanval1=span;template=results;type=batting;continent=2;spanmax1=31+Dec+{maxYear};spanmin1=1+Jan+{minYear};\"\n",
        "  else:\n",
        "    url = f\"https://stats.espncricinfo.com/ci/engine/player/{id}.html?batting_positionmax1={maxPos};batting_positionmin1={minPos};batting_positionval1=batting_position;class=1;filter=advanced;groupby=overall;orderby=runs;spanval1=span;template=results;type=batting;host=1;host=2;host=3;host=5;spanmax1=31+Dec+{maxYear};spanmin1=1+Jan+{minYear};\"\n",
        "\n",
        "  response = requests.get(url, headers = {'User-Agent': 'Mozilla/5.0 (X11; Linux x86_64) AppleWebKit/537.36 (KHTML, like Gecko) Chrome/59.0.3071.115 Safari/537.36'})\n",
        "  soup = BeautifulSoup(response.content, 'html.parser')\n",
        "\n",
        "  tables = soup.find_all('table')\n",
        "  third_table = tables[2]\n",
        "  tbody = third_table.find_all('tbody')[1]\n",
        "  first_row = tbody.find('tr')\n",
        "  eighth_column = first_row.find_all('td')[7]\n",
        "  return eighth_column.text\n",
        "\n",
        "\n",
        "def getEraAvg(minPos, maxPos, minYear, maxYear, venue):\n",
        "  if venue == 0:\n",
        "    url = f\"https://stats.espncricinfo.com/ci/engine/stats/index.html?batting_positionmax1={maxPos};batting_positionmin1={minPos};batting_positionval1=batting_position;class=1;filter=advanced;groupby=overall;orderby=runs;spanval1=span;template=results;type=batting;spanmax1=31+Dec+{maxYear};spanmin1=1+Jan+{minYear};\"\n",
        "  elif venue == 1:\n",
        "    url = f\"https://stats.espncricinfo.com/ci/engine/stats/index.html?batting_positionmax1={maxPos};batting_positionmin1={minPos};batting_positionval1=batting_position;class=1;filter=advanced;groupby=overall;orderby=runs;spanval1=span;template=results;type=batting;continent=2;spanmax1=31+Dec+{maxYear};spanmin1=1+Jan+{minYear};\"\n",
        "  else:\n",
        "    url = f\"https://stats.espncricinfo.com/ci/engine/stats/index.html?batting_positionmax1={maxPos};batting_positionmin1={minPos};batting_positionval1=batting_position;class=1;filter=advanced;groupby=overall;orderby=runs;spanval1=span;template=results;type=batting;host=1;host=2;host=3;host=5;spanmax1=31+Dec+{maxYear};spanmin1=1+Jan+{minYear};\"\n",
        "\n",
        "  response = requests.get(url, headers = {'User-Agent': 'Mozilla/5.0 (X11; Linux x86_64) AppleWebKit/537.36 (KHTML, like Gecko) Chrome/59.0.3071.115 Safari/537.36'})\n",
        "  soup = BeautifulSoup(response.content, 'html.parser')\n",
        "\n",
        "  tables = soup.find_all('table')\n",
        "  third_table = tables[2]\n",
        "  tbody = third_table.find_all('tbody')[0]\n",
        "  first_row = tbody.find('tr')\n",
        "  eighth_column = first_row.find_all('td')[8]\n",
        "  return eighth_column.text"
      ],
      "metadata": {
        "id": "rTpn01eqpFcP"
      },
      "execution_count": 68,
      "outputs": []
    },
    {
      "cell_type": "code",
      "source": [
        "def genData(id, posType, minYear, maxYear):\n",
        "  if posType == 0:\n",
        "    maxPos = 3\n",
        "    minPos = 1\n",
        "  else:\n",
        "    maxPos = 7\n",
        "    minPos = 4\n",
        "\n",
        "  print(\"Overall: \", getAvg(id, minPos, maxPos, minYear, maxYear, 0))\n",
        "  print(\"Asia: \", getAvg(id, minPos, maxPos, minYear, maxYear,  1))\n",
        "  print(\"SENA: \", getAvg(id, minPos, maxPos, minYear, maxYear,  2))\n",
        "  print(\"==================Era Average==========================\")\n",
        "  print(\"Overall: \", getEraAvg(minPos, maxPos, minYear, maxYear, 0))\n",
        "  print(\"Asia: \", getEraAvg(minPos, maxPos, minYear, maxYear, 1))\n",
        "  print(\"SENA: \", getEraAvg(minPos, maxPos, minYear, maxYear, 2))"
      ],
      "metadata": {
        "id": "tInOk0_Ku7Us"
      },
      "execution_count": 69,
      "outputs": []
    },
    {
      "cell_type": "code",
      "source": [
        "genData(\"629074\", 0, 2015, 2024)"
      ],
      "metadata": {
        "colab": {
          "base_uri": "https://localhost:8080/"
        },
        "id": "1w6F-aprwU5b",
        "outputId": "6e0ab28a-783d-4870-c302-7f6a4a3ad421"
      },
      "execution_count": 76,
      "outputs": [
        {
          "output_type": "stream",
          "name": "stdout",
          "text": [
            "Overall:  38.80\n",
            "Asia:  40.68\n",
            "SENA:  27.89\n",
            "==================Era Average==========================\n",
            "Overall:  35.10\n",
            "Asia:  36.67\n",
            "SENA:  34.94\n"
          ]
        }
      ]
    }
  ]
}