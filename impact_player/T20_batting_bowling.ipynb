{
  "nbformat": 4,
  "nbformat_minor": 0,
  "metadata": {
    "colab": {
      "provenance": []
    },
    "kernelspec": {
      "name": "python3",
      "display_name": "Python 3"
    },
    "language_info": {
      "name": "python"
    }
  },
  "cells": [
    {
      "cell_type": "code",
      "execution_count": null,
      "metadata": {
        "id": "BeCEgz8H-vsp"
      },
      "outputs": [],
      "source": [
        "import requests\n",
        "from bs4 import BeautifulSoup\n",
        "import csv"
      ]
    },
    {
      "cell_type": "code",
      "source": [
        "def getBattingData(page):\n",
        "  response = requests.request(\n",
        "      method=\"GET\",\n",
        "      url=f\"https://stats.espncricinfo.com/ci/engine/stats/index.html?class=6;filter=advanced;orderby=matches;page={page};size=200;spanmin1=10+Apr+2019;spanval1=span;template=results;type=batting\",\n",
        "      headers = {'User-Agent': 'Mozilla/5.0 (X11; Linux x86_64) AppleWebKit/537.36 (KHTML, like Gecko) Chrome/59.0.3071.115 Safari/537.36'}\n",
        "  )\n",
        "  soup = BeautifulSoup(response.content, 'html.parser')\n",
        "  rows = soup.find_all(\"table\")[2].find_all('tbody')[0].find_all('tr')\n",
        "\n",
        "  data = []\n",
        "  for i, row in enumerate(rows):\n",
        "    if i % 2 != 0:\n",
        "      continue\n",
        "    cols = row.find_all('td')\n",
        "    id = cols[0].find('a')['href'].split(\"/\")[-1].split(\".\")[0]\n",
        "    name = cols[0].text\n",
        "    matches = cols[2].text\n",
        "    balls = cols[8].text\n",
        "\n",
        "    data.append([id, name, matches, balls])\n",
        "\n",
        "  return data"
      ],
      "metadata": {
        "id": "NPew5AFz_pLQ"
      },
      "execution_count": null,
      "outputs": []
    },
    {
      "cell_type": "code",
      "source": [
        "data = []\n",
        "for i in range(1, 36):\n",
        "  data.extend(getBattingData(i))"
      ],
      "metadata": {
        "id": "534zJL8LBvmn"
      },
      "execution_count": null,
      "outputs": []
    },
    {
      "cell_type": "code",
      "source": [
        "headers=[\"id\", \"player\", \"matches\", \"balls\"]\n",
        "csvRows =[]\n",
        "csvRows.append(headers)\n",
        "csvRows.extend(data)"
      ],
      "metadata": {
        "id": "FMKnCNYMCNFR"
      },
      "execution_count": null,
      "outputs": []
    },
    {
      "cell_type": "code",
      "source": [
        "with open('batter_balls.csv', 'w', newline='') as file:\n",
        "    writer = csv.writer(file)\n",
        "    for row in csvRows:\n",
        "      if row is not None:\n",
        "        writer.writerow(row)"
      ],
      "metadata": {
        "id": "8PdtUvgXDgNl"
      },
      "execution_count": null,
      "outputs": []
    },
    {
      "cell_type": "code",
      "source": [
        "def getBowlingData(page):\n",
        "  response = requests.request(\n",
        "      method=\"GET\",\n",
        "      url=f\"https://stats.espncricinfo.com/ci/engine/stats/index.html?class=6;filter=advanced;orderby=matches;size=200;page={page};spanmin1=10+Apr+2019;spanval1=span;template=results;type=bowling\",\n",
        "      headers = {'User-Agent': 'Mozilla/5.0 (X11; Linux x86_64) AppleWebKit/537.36 (KHTML, like Gecko) Chrome/59.0.3071.115 Safari/537.36'}\n",
        "  )\n",
        "  soup = BeautifulSoup(response.content, 'html.parser')\n",
        "  rows = soup.find_all(\"table\")[2].find_all('tbody')[0].find_all('tr')\n",
        "\n",
        "  data = []\n",
        "  for i, row in enumerate(rows):\n",
        "    if i % 2 != 0:\n",
        "      continue\n",
        "    cols = row.find_all('td')\n",
        "    id = cols[0].find('a')['href'].split(\"/\")[-1].split(\".\")[0]\n",
        "    name = cols[0].text\n",
        "    matches = cols[2].text\n",
        "    balls = cols[4].text\n",
        "\n",
        "    data.append([id, name, matches, balls])\n",
        "\n",
        "  return data"
      ],
      "metadata": {
        "id": "cAvZtJ6eEQnC"
      },
      "execution_count": null,
      "outputs": []
    },
    {
      "cell_type": "code",
      "source": [
        "data = []\n",
        "for i in range(1, 36):\n",
        "  data.extend(getBowlingData(i))"
      ],
      "metadata": {
        "id": "tU8BZGSQEanY"
      },
      "execution_count": null,
      "outputs": []
    },
    {
      "cell_type": "code",
      "source": [
        "headers=[\"id\", \"player\", \"matches\", \"balls\"]\n",
        "csvRows =[]\n",
        "csvRows.append(headers)\n",
        "csvRows.extend(data)"
      ],
      "metadata": {
        "id": "bvT17Bl1FhhB"
      },
      "execution_count": null,
      "outputs": []
    },
    {
      "cell_type": "code",
      "source": [
        "with open('bowler_balls.csv', 'w', newline='') as file:\n",
        "    writer = csv.writer(file)\n",
        "    for row in csvRows:\n",
        "      if row is not None:\n",
        "        writer.writerow(row)"
      ],
      "metadata": {
        "id": "EIqRSRVBFj4Q"
      },
      "execution_count": null,
      "outputs": []
    },
    {
      "cell_type": "code",
      "source": [],
      "metadata": {
        "id": "4pTVb-NLOFbB"
      },
      "execution_count": null,
      "outputs": []
    }
  ]
}