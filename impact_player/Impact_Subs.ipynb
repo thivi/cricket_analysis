{
  "nbformat": 4,
  "nbformat_minor": 0,
  "metadata": {
    "colab": {
      "provenance": []
    },
    "kernelspec": {
      "name": "python3",
      "display_name": "Python 3"
    },
    "language_info": {
      "name": "python"
    }
  },
  "cells": [
    {
      "cell_type": "code",
      "execution_count": null,
      "metadata": {
        "id": "FB9qdvHjfyBO"
      },
      "outputs": [],
      "source": [
        "import requests\n",
        "import csv"
      ]
    },
    {
      "cell_type": "code",
      "source": [
        "headers=[\"match_id\", \"date\", \"team\", \"runs\", \"overs\", \"batting_first\", \"player\", \"id\", \"role\", \"impact_sub\", \"replaced\", \"over\", \"innings\"]"
      ],
      "metadata": {
        "id": "5TLG9GUpDeFs"
      },
      "execution_count": null,
      "outputs": []
    },
    {
      "cell_type": "code",
      "source": [
        "def queryCricinfo(url):\n",
        "  resp = requests.get(url, headers = {'User-Agent': 'Mozilla/5.0 (X11; Linux x86_64) AppleWebKit/537.36 (KHTML, like Gecko) Chrome/59.0.3071.115 Safari/537.36'})\n",
        "\n",
        "  return resp.json()"
      ],
      "metadata": {
        "id": "deMJptgmgANG"
      },
      "execution_count": null,
      "outputs": []
    },
    {
      "cell_type": "code",
      "source": [
        "def getMatch(id, seriesId):\n",
        "  resp = queryCricinfo(f\"https://hs-consumer-api.espncricinfo.com/v1/pages/match/scorecard?lang=en&seriesId={seriesId}&matchId={id}\")\n",
        "\n",
        "  if resp[\"match\"][\"stage\"] == \"SCHEDULED\":\n",
        "    return\n",
        "\n",
        "  if \"content\" not in resp:\n",
        "    return\n",
        "\n",
        "  if \"matchPlayers\" not in resp[\"content\"] or resp[\"content\"][\"matchPlayers\"] == None:\n",
        "    return\n",
        "\n",
        "  runs = {}\n",
        "  overs = {}\n",
        "  teamPlayers = resp[\"content\"][\"matchPlayers\"][\"teamPlayers\"]\n",
        "  id = resp[\"match\"][\"objectId\"]\n",
        "  date = resp[\"match\"][\"startDate\"]\n",
        "  teamBattingFirst = \"\"\n",
        "\n",
        "  for inn in resp[\"content\"][\"innings\"]:\n",
        "    runs[inn[\"team\"][\"longName\"]] = inn[\"runs\"]\n",
        "    overs[inn[\"team\"][\"longName\"]] = inn[\"overs\"]\n",
        "\n",
        "    if inn[\"inningNumber\"] == 1:\n",
        "      teamBattingFirst = inn[\"team\"][\"longName\"]\n",
        "\n",
        "  replacement = resp[\"match\"][\"replacementPlayers\"]\n",
        "\n",
        "  subs = {}\n",
        "  if replacement is not None:\n",
        "    for rep in replacement:\n",
        "      team = rep[\"team\"][\"longName\"]\n",
        "      sub = rep[\"player\"][\"longName\"]\n",
        "      subID = rep[\"player\"][\"objectId\"]\n",
        "      replaced = rep[\"replacingPlayer\"][\"longName\"]\n",
        "      replacedID = rep[\"replacingPlayer\"][\"objectId\"]\n",
        "      over= rep[\"over\"]\n",
        "      inn = rep[\"inning\"]\n",
        "\n",
        "      subs[team]= {\n",
        "          \"sub\": sub,\n",
        "          \"subID\": subID,\n",
        "          \"replaced\": replaced,\n",
        "          \"replacedID\": replacedID,\n",
        "          \"over\": over,\n",
        "          \"inn\": inn\n",
        "      }\n",
        "\n",
        "  data = []\n",
        "  for team in teamPlayers:\n",
        "    name = team[\"team\"][\"longName\"]\n",
        "    battingFirst = name == teamBattingFirst\n",
        "    for player in team[\"players\"]:\n",
        "      playerName = player[\"player\"][\"longName\"]\n",
        "      playerID = player[\"player\"][\"objectId\"]\n",
        "      role = \"/\".join(player[\"player\"][\"playingRoles\"])\n",
        "\n",
        "      imp = False\n",
        "      rep = False\n",
        "      inn = \"\"\n",
        "      over = \"\"\n",
        "\n",
        "      if name in subs:\n",
        "        sub = subs[name]\n",
        "\n",
        "        if playerID == sub[\"subID\"]:\n",
        "          imp = True\n",
        "          inn = sub[\"inn\"]\n",
        "          over = sub[\"over\"]\n",
        "\n",
        "        if playerID == sub[\"replacedID\"]:\n",
        "          rep = True\n",
        "          inn = sub[\"inn\"]\n",
        "          over = sub[\"over\"]\n",
        "\n",
        "      runsScored = runs[name] if name in runs else \"\"\n",
        "      oversBowled = overs[name] if name in overs else \"\"\n",
        "      data.append([id,date,name, runsScored, oversBowled, battingFirst,playerName, playerID, role,imp,rep,over,inn])\n",
        "\n",
        "  return data"
      ],
      "metadata": {
        "id": "F-QmGM8OgKi1"
      },
      "execution_count": null,
      "outputs": []
    },
    {
      "cell_type": "code",
      "source": [
        "def getSeries(id):\n",
        "  resp = queryCricinfo(f\"https://hs-consumer-api.espncricinfo.com/v1/pages/series/schedule?lang=en&seriesId={id}\")\n",
        "  data = []\n",
        "  print(\"No. of matches: \", len(resp[\"content\"][\"matches\"]))\n",
        "  nones = 0\n",
        "  noDataMatches = []\n",
        "  for mat in resp[\"content\"][\"matches\"]:\n",
        "\n",
        "    matchData= getMatch(mat[\"objectId\"], id)\n",
        "    if matchData is None:\n",
        "      nones += 1\n",
        "      noDataMatches.append(mat[\"slug\"])\n",
        "    else:\n",
        "      data.extend(matchData)\n",
        "\n",
        "  print(f\"Match details not found for {nones}  matches.\")\n",
        "  print(\", \".join(noDataMatches))\n",
        "\n",
        "  return data"
      ],
      "metadata": {
        "id": "ATTk_7nN7_h_"
      },
      "execution_count": null,
      "outputs": []
    },
    {
      "cell_type": "code",
      "source": [
        "series = [\"1410320\", \"1345038\", \"1298423\"]\n",
        "data = []\n",
        "for s in series:\n",
        "  data.extend(getSeries(s))"
      ],
      "metadata": {
        "colab": {
          "base_uri": "https://localhost:8080/"
        },
        "id": "YKuS0dkQAnex",
        "outputId": "3b62b96f-5b44-4559-8ac5-1433eb7de290"
      },
      "execution_count": null,
      "outputs": [
        {
          "output_type": "stream",
          "name": "stdout",
          "text": [
            "No. of matches:  74\n",
            "Match details not found for 45  matches.\n",
            "royal-challengers-bengaluru-vs-sunrisers-hyderabad-30th-match, kolkata-knight-riders-vs-rajasthan-royals-31st-match, gujarat-titans-vs-delhi-capitals-32nd-match, punjab-kings-vs-mumbai-indians-33rd-match, lucknow-super-giants-vs-chennai-super-kings-34th-match, delhi-capitals-vs-sunrisers-hyderabad-35th-match, kolkata-knight-riders-vs-royal-challengers-bengaluru-36th-match, punjab-kings-vs-gujarat-titans-37th-match, rajasthan-royals-vs-mumbai-indians-38th-match, chennai-super-kings-vs-lucknow-super-giants-39th-match, delhi-capitals-vs-gujarat-titans-40th-match, sunrisers-hyderabad-vs-royal-challengers-bengaluru-41st-match, kolkata-knight-riders-vs-punjab-kings-42nd-match, delhi-capitals-vs-mumbai-indians-43rd-match, lucknow-super-giants-vs-rajasthan-royals-44th-match, gujarat-titans-vs-royal-challengers-bengaluru-45th-match, chennai-super-kings-vs-sunrisers-hyderabad-46th-match, kolkata-knight-riders-vs-delhi-capitals-47th-match, lucknow-super-giants-vs-mumbai-indians-48th-match, chennai-super-kings-vs-punjab-kings-49th-match, sunrisers-hyderabad-vs-rajasthan-royals-50th-match, mumbai-indians-vs-kolkata-knight-riders-51st-match, royal-challengers-bengaluru-vs-gujarat-titans-52nd-match, punjab-kings-vs-chennai-super-kings-53rd-match, lucknow-super-giants-vs-kolkata-knight-riders-54th-match, mumbai-indians-vs-sunrisers-hyderabad-55th-match, delhi-capitals-vs-rajasthan-royals-56th-match, sunrisers-hyderabad-vs-lucknow-super-giants-57th-match, punjab-kings-vs-royal-challengers-bengaluru-58th-match, gujarat-titans-vs-chennai-super-kings-59th-match, kolkata-knight-riders-vs-mumbai-indians-60th-match, chennai-super-kings-vs-rajasthan-royals-61st-match, royal-challengers-bengaluru-vs-delhi-capitals-62nd-match, gujarat-titans-vs-kolkata-knight-riders-63rd-match, delhi-capitals-vs-lucknow-super-giants-64th-match, rajasthan-royals-vs-punjab-kings-65th-match, sunrisers-hyderabad-vs-gujarat-titans-66th-match, mumbai-indians-vs-lucknow-super-giants-67th-match, royal-challengers-bengaluru-vs-chennai-super-kings-68th-match, sunrisers-hyderabad-vs-punjab-kings-69th-match, rajasthan-royals-vs-kolkata-knight-riders-70th-match, tba-vs-tba-qualifier-1, tba-vs-tba-eliminator, tba-vs-tba-qualifier-2, tba-vs-tba-final\n",
            "No. of matches:  74\n",
            "Match details not found for 0  matches.\n",
            "\n",
            "No. of matches:  74\n",
            "Match details not found for 0  matches.\n",
            "\n"
          ]
        }
      ]
    },
    {
      "cell_type": "code",
      "source": [
        "csvRows = []\n",
        "csvRows.append(headers)\n",
        "csvRows.extend(data)"
      ],
      "metadata": {
        "id": "3-XOYqr0Dblt"
      },
      "execution_count": null,
      "outputs": []
    },
    {
      "cell_type": "code",
      "source": [
        "with open('impact_sub_data.csv', 'w', newline='') as file:\n",
        "    writer = csv.writer(file)\n",
        "    for row in csvRows:\n",
        "      if row is not None:\n",
        "        writer.writerow(row)"
      ],
      "metadata": {
        "id": "oyPu8a1tFmw3"
      },
      "execution_count": null,
      "outputs": []
    }
  ]
}